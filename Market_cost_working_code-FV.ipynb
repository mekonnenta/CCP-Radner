{
 "cells": [
  {
   "cell_type": "code",
   "execution_count": 58,
   "metadata": {},
   "outputs": [],
   "source": [
    "import numpy as np\n",
    "from scipy.optimize import root\n",
    "from scipy.stats import norm\n",
    "from scipy.stats import t\n",
    "from scipy.optimize import minimize"
   ]
  },
  {
   "cell_type": "markdown",
   "metadata": {},
   "source": [
    "# Entropic Risk Measure--  Liquidation Case"
   ]
  },
  {
   "cell_type": "code",
   "execution_count": 59,
   "metadata": {},
   "outputs": [],
   "source": [
    "#####Before default####\n",
    "\n",
    "mean_P = 2.0\n",
    "var_P = 0.04    # 0.04\n",
    "varrhos = np.ones(15)   #varrho_i for i=1,...,15\n",
    "D = np.arange(len(varrhos)) + 1    #1,2,3,...,15\n",
    "covs = np.sqrt(var_P) * ((-1)**(D+1) * 0.8) * (0.3*D) #cov_i = covs[i], for i=1,...,15\n",
    "\n",
    "def Pre_default_position_liq_entropy_N(i):\n",
    "    \"Before defalt postions for i =1, ...15\"\n",
    "    varrho =  ((1/varrhos).sum())**(-1)\n",
    "    cov = covs.sum()\n",
    "    if  0<i and i<=15:\n",
    "        return ((varrho/varrhos[i-1])*cov - covs[i-1])/var_P\n",
    "    else:\n",
    "        print('undefined')\n",
    "\n",
    "def Pre_default_price_liq_entropy_N():\n",
    "    \"optimal price before default\"\n",
    "    varrho =  ((1/varrhos).sum())**(-1)\n",
    "    cov = covs.sum()\n",
    "    return mean_P - varrho * cov\n",
    "    \n",
    "######After Default#####\n",
    "\n",
    "def Post_default_position_liq_entropy_N(i):\n",
    "    \"after defalt postions for i =1, ...14\"\n",
    "    varrho_prime = ((1/varrhos[0:14]).sum())**(-1)\n",
    "    cov_prime = covs[0:14].sum()\n",
    "    if 0<i and i<=14:\n",
    "        return ((varrho_prime/varrhos[i-1])*cov_prime - covs[i-1])/var_P\n",
    "    else:\n",
    "        print (\"undefined\")    \n",
    "\n",
    "def Post_default_price_liq_entropy_N():\n",
    "    \"optimal price fter default\"\n",
    "    varrho_prime = ((1/varrhos[0:14]).sum())**(-1)\n",
    "    cov_prime = covs[0:14].sum()\n",
    "    return mean_P -varrho_prime * cov_prime\n",
    "                        \n",
    "#Market Cost\n",
    "def Market_cost_liq_entropy_N():\n",
    "    varrho_prime = ((1/varrhos[0:14]).sum())**(-1)\n",
    "    q_d = Pre_default_position_liq_entropy_N(15)\n",
    "    return (0.5 * varrho_prime* (q_d**2) * var_P)\n",
    "\n",
    "#def LC_liq_entropy_N():\n",
    " #   q_d = Pre_default_position_liq_entropy_N(15)\n",
    "  #  P_prime =Post_default_price_liq_entropy_N()\n",
    "   # P = Pre_default_price_liq_entropy_N()\n",
    "    #return q_d*(P_prime -P)"
   ]
  },
  {
   "cell_type": "markdown",
   "metadata": {},
   "source": [
    "# Risk Increment  Liquidation (Entropy, Normal)\n",
    "\n",
    "$RI_i = r_i(q'_i) - r_i(q_i) + q_i'^\\top p'-q_i^\\top p$, \n",
    "\n",
    "where  $r_i(x) = -x\\mu +\\varrho_i xcov_i +\\frac{1}{2}\\varrho_ix^2\\sigma^2$\n"
   ]
  },
  {
   "cell_type": "code",
   "execution_count": 60,
   "metadata": {},
   "outputs": [],
   "source": [
    "def Risk_increment_liq_entropy_N():\n",
    "    Pre = np.zeros(14)      #q_i, i=1,...,14\n",
    "    Post = np.zeros(14)     #q_i, i=1,...14\n",
    "    for i in range(0,14):\n",
    "        Pre[i]=Pre_default_position_liq_entropy_N(i+1)\n",
    "        Post[i]=Post_default_position_liq_entropy_N(i+1)\n",
    "    Delta_q = Post-Pre\n",
    "    P = Pre_default_price_liq_entropy_N()\n",
    "    P_prime = Post_default_price_liq_entropy_N()\n",
    "    varrhoss = varrhos[0:14]\n",
    "    covss = covs[0:14]\n",
    "    ter1 = (Post*P_prime) - (Pre*P)\n",
    "    ter2 = (-(mean_P*Delta_q)) + (varrhoss*Delta_q*covss)\n",
    "    ter3 = 0.5*var_P*varrhoss\n",
    "    ter4 = (Post**2)-(Pre**2)\n",
    "    return  ter1 + ter2 + (ter3*ter4)\n",
    "\n",
    "def Price_impact_liq_entropy_N():\n",
    "    Post = np.zeros(14)      #q_i, i=1,...,14\n",
    "    for i in range(0,14):\n",
    "        Post[i]=Post_default_position_liq_entropy_N(i+1)\n",
    "    p = Pre_default_price_liq_entropy_N()\n",
    "    P_prime = Post_default_price_liq_entropy_N()\n",
    "    return (p-P_prime)*Post"
   ]
  },
  {
   "cell_type": "code",
   "execution_count": 61,
   "metadata": {},
   "outputs": [
    {
     "data": {
      "text/plain": [
       "(array([-0.058528,  0.120032, -0.177568,  0.239072, -0.296608,  0.358112,\n",
       "        -0.415648,  0.477152, -0.534688,  0.596192, -0.653728,  0.715232,\n",
       "        -0.772768,  0.834272]),\n",
       " array([ 0.08928, -0.08928,  0.20832, -0.20832,  0.32736, -0.32736,\n",
       "         0.4464 , -0.4464 ,  0.56544, -0.56544,  0.68448, -0.68448,\n",
       "         0.80352, -0.80352]))"
      ]
     },
     "execution_count": 61,
     "metadata": {},
     "output_type": "execute_result"
    }
   ],
   "source": [
    "Risk_increment_liq_entropy_N(), Price_impact_liq_entropy_N()"
   ]
  },
  {
   "cell_type": "code",
   "execution_count": 62,
   "metadata": {},
   "outputs": [
    {
     "data": {
      "text/plain": [
       "-0.05877600000000005"
      ]
     },
     "execution_count": 62,
     "metadata": {},
     "output_type": "execute_result"
    }
   ],
   "source": [
    "-0.031-Pre_default_position_liq_entropy_N(1)*(Pre_default_price_liq_entropy_N()-Post_default_price_liq_entropy_N())"
   ]
  },
  {
   "cell_type": "code",
   "execution_count": 63,
   "metadata": {},
   "outputs": [
    {
     "data": {
      "text/plain": [
       "(array([ 0.048, -0.096,  0.144, -0.192,  0.24 , -0.288,  0.336, -0.384,\n",
       "         0.432, -0.48 ,  0.528, -0.576,  0.624, -0.672,  0.72 ]),\n",
       " array([ -0.56,   3.04,  -2.96,   5.44,  -5.36,   7.84,  -7.76,  10.24,\n",
       "        -10.16,  12.64, -12.56,  15.04, -14.96,  17.44, -17.36]),\n",
       " array([ -1.8,   1.8,  -4.2,   4.2,  -6.6,   6.6,  -9. ,   9. , -11.4,\n",
       "         11.4, -13.8,  13.8, -16.2,  16.2]))"
      ]
     },
     "execution_count": 63,
     "metadata": {},
     "output_type": "execute_result"
    }
   ],
   "source": [
    "#print the ppre and post default positions\n",
    "DD = np.zeros(15)\n",
    "DDD = np.zeros(14)\n",
    "for i in range(0,15):\n",
    "    DD[i]=Pre_default_position_liq_entropy_N(i+1)\n",
    "for i in range(0,14):\n",
    "    DDD[i]=Post_default_position_liq_entropy_N(i+1)\n",
    "covs, DD, DDD  "
   ]
  },
  {
   "cell_type": "code",
   "execution_count": 64,
   "metadata": {},
   "outputs": [
    {
     "data": {
      "text/plain": [
       "-0.10812800000000033"
      ]
     },
     "execution_count": 64,
     "metadata": {},
     "output_type": "execute_result"
    }
   ],
   "source": [
    "Risk_increment_liq_entropy_N()[0]+ D[0]*(Pre_default_price_liq_entropy_N()-Post_default_price_liq_entropy_N())"
   ]
  },
  {
   "cell_type": "code",
   "execution_count": 69,
   "metadata": {},
   "outputs": [
    {
     "data": {
      "text/plain": [
       "0.43052800000000024"
      ]
     },
     "execution_count": 69,
     "metadata": {},
     "output_type": "execute_result"
    }
   ],
   "source": [
    "Market_cost_liq_entropy_N()"
   ]
  },
  {
   "cell_type": "markdown",
   "metadata": {},
   "source": [
    "# Entropic Risk Measure--  Hedging Case"
   ]
  },
  {
   "cell_type": "code",
   "execution_count": 70,
   "metadata": {},
   "outputs": [],
   "source": [
    "#Pre-default position and price ---- see the liquidation case\n",
    "var_P = 0.04    # 0.04\n",
    "mean_P = 2.0\n",
    "varrhos = np.ones(15)   #varrho_i for i=1,...,15\n",
    "D = np.arange(len(varrhos)) + 1    #1,2,3,...,15\n",
    "covs = np.sqrt(var_P) * ((-1)**(D+1) * 0.8) * (0.3*D) #cov_i = covs[i], for i=1,...,15\n",
    "\n",
    "varrho_c = 1.0\n",
    "\n",
    "def Post_default_position_hedg_entropy_N(i):\n",
    "    \"after defalt postions for i =1, ...14, c=15\"\n",
    "    varrho_prime = ((1/varrhos[0:14]).sum() + (1/varrho_c) )**(-1)\n",
    "    q_d  = Pre_default_position_liq_entropy_N(15)\n",
    "    cov_prime = covs[0:14].sum() + (q_d*var_P)\n",
    "    \n",
    "    if 0<i and i<=14:\n",
    "        return ((varrho_prime*cov_prime/(varrhos[i-1])) - (covs[i-1]))/var_P - (varrho_prime*q_d/(varrhos[i-1]))\n",
    "    elif i==15:\n",
    "        return (varrho_prime*cov_prime/varrho_c)/var_P - q_d - (varrho_prime*q_d/varrho_c)\n",
    "    else:\n",
    "        print (\"undefined\")    \n",
    "\n",
    "def Post_default_price_hedg_entropy_N():\n",
    "    \"optimal price after default\"\n",
    "    varrho_prime = ((1/varrhos[0:14]).sum() + (1/varrho_c) )**(-1)\n",
    "    q_d  = Pre_default_position_liq_entropy_N(15)\n",
    "    cov_prime = covs[0:14].sum() + (q_d*var_P)\n",
    "    return mean_P - varrho_prime * cov_prime + varrho_prime * var_P *q_d\n",
    "\n",
    "\n",
    "#Market Cost\n",
    "def Market_cost_hedging_entropy_N(): #this is based on the simplified expression\n",
    "    varrho =  ((1/varrhos).sum())**(-1)\n",
    "    cov = covs.sum()\n",
    "    varrho_prime = ((1/varrhos[0:14]).sum() + (1/varrho_c) )**(-1)\n",
    "    q_d  = Pre_default_position_liq_entropy_N(15)\n",
    "    a = (varrho**2)* (varrho_prime - varrho_c)/(2*(varrho_c**2))\n",
    "    b = (cov**2)/var_P \n",
    "    c = 0.5*varrho_prime * var_P *(q_d**2)\n",
    "    d = varrho_prime *varrho *q_d * cov /varrho_c\n",
    "    return (a *b) + c-d\n",
    "\n",
    "def Market_cost_hedging_correct_entropy_N(): #this is based on {eq:hcnormalentro} 36\n",
    "    Post_default_position =np.zeros(15)\n",
    "    for i in range(0,15):\n",
    "        Post_default_position[i] = Post_default_position_hedg_entropy_N(i+1)\n",
    "    Pre_default_position = np.zeros(15)\n",
    "    covss = np.zeros(15)\n",
    "    varrhoss = np.zeros(15)\n",
    "    for i in range(0,14):\n",
    "        Pre_default_position[i] =Pre_default_position_liq_entropy_N(i+1)\n",
    "        covss[i] = covs[i]\n",
    "        varrhoss[i]=varrhos[i]\n",
    "    q_d =  Pre_default_position_liq_entropy_N(15)\n",
    "    covss[14] = q_d*var_P\n",
    "    varrhoss[14] = varrho_c\n",
    "    Delta_q = Post_default_position - Pre_default_position\n",
    "    P = Pre_default_price_liq_entropy_N()\n",
    "    a = varrhoss * Delta_q\n",
    "    b = covss + var_P*(Pre_default_position + (0.5 * Delta_q))\n",
    "    c = 0.5 * var_P * varrho_c * (q_d**2) \n",
    "    d = q_d * (mean_P -P )\n",
    "    return ((a*b).sum()) + (c - d ) \n",
    "\n",
    "def LC_hedg_entropy_N():\n",
    "    q_d = Pre_default_position_liq_entropy_N(15)\n",
    "    P_prime =Post_default_price_hedg_entropy_N()\n",
    "    P = Pre_default_price_liq_entropy_N()\n",
    "    return q_d*(P_prime -P)"
   ]
  },
  {
   "cell_type": "markdown",
   "metadata": {},
   "source": [
    "# Risk Increment  Hedging (Entropy, Normal)\n",
    "\n",
    "$RI_i = r_i(q'_i) - r_i(q_i) + q_i'^\\top p'-q_i^\\top p$\n",
    "\n",
    "$RI_c = r_i(q'_c) +q'_cp'$\n",
    "\n",
    "where  $r_i(x) = -x\\mu +\\varrho_i xcov_i +\\frac{1}{2}\\varrho_ix^2\\sigma^2$ for each surviving member.\n",
    "\n",
    "$r_c(q'_c) = q_d(p-\\mu) - q'_c\\mu + 0.5 \\varrho_c\\sigma^2 q_d^2 +\\varrho_c \\sigma^2 q_d q'_c +0.5 \\sigma^2 \\varrho_c {q'_c}^2 $.\n",
    "        \n"
   ]
  },
  {
   "cell_type": "code",
   "execution_count": 71,
   "metadata": {},
   "outputs": [],
   "source": [
    "def Risk_increment_hedg_entropy_N():\n",
    "    Pre = np.zeros(14)      #q_i, i=1,...,14\n",
    "    Post = np.zeros(14)     #q_i, i=1,...14\n",
    "    for i in range(0,14):\n",
    "        Pre[i]=Pre_default_position_liq_entropy_N(i+1)\n",
    "        Post[i]=Post_default_position_hedg_entropy_N(i+1)\n",
    "    Delta_q = Post-Pre\n",
    "    varrhoss = varrhos[0:14]\n",
    "    covss = covs[0:14]\n",
    "    p = Pre_default_price_liq_entropy_N()\n",
    "    P_prime = Post_default_price_hedg_entropy_N()\n",
    "    q_prime_c = Post_default_position_hedg_entropy_N(15)\n",
    "    q_d = Pre_default_position_liq_entropy_N(15)  \n",
    "    ter1 = (Post*P_prime) - (Pre*p)\n",
    "    ter2 = (-(mean_P*Delta_q)) + (varrhoss*Delta_q*covss)\n",
    "    ter3 = 0.5*var_P*varrhoss\n",
    "    ter4 = (Post**2)-(Pre**2)\n",
    "    ter5 = (q_d*(p-mean_P)) - (q_prime_c*mean_P) + (0.5*varrho_c*(q_d**2)*var_P) + (varrho_c*q_prime_c*var_P*q_d)+(0.5*varrho_c*(q_prime_c**2)*var_P) + (q_prime_c*P_prime)   \n",
    "    return  np.append((ter1 + ter2 + (ter3*ter4)),ter5)\n",
    "\n",
    "def Price_impact_hedg_entropy_N():\n",
    "    Pre = np.zeros(14)      #q_i, i=1,...,14\n",
    "    for i in range(0,14):\n",
    "        Pre[i]=Pre_default_position_liq_entropy_N(i+1)\n",
    "    p = Pre_default_price_liq_entropy_N()\n",
    "    P_prime = Post_default_price_hedg_entropy_N()\n",
    "    return (p-P_prime)*Pre"
   ]
  },
  {
   "cell_type": "code",
   "execution_count": 72,
   "metadata": {},
   "outputs": [
    {
     "data": {
      "text/plain": [
       "(array([-0.05568 ,  0.11712 , -0.17088 ,  0.23232 , -0.28608 ,  0.34752 ,\n",
       "        -0.40128 ,  0.46272 , -0.51648 ,  0.57792 , -0.63168 ,  0.69312 ,\n",
       "        -0.74688 ,  0.80832 ,  0.827008]),\n",
       " array([-0.058528,  0.120032, -0.177568,  0.239072, -0.296608,  0.358112,\n",
       "        -0.415648,  0.477152, -0.534688,  0.596192, -0.653728,  0.715232,\n",
       "        -0.772768,  0.834272]),\n",
       " array([ 0.02688, -0.14592,  0.14208, -0.26112,  0.25728, -0.37632,\n",
       "         0.37248, -0.49152,  0.48768, -0.60672,  0.60288, -0.72192,\n",
       "         0.71808, -0.83712]))"
      ]
     },
     "execution_count": 72,
     "metadata": {},
     "output_type": "execute_result"
    }
   ],
   "source": [
    "Risk_increment_hedg_entropy_N(),Risk_increment_liq_entropy_N(),Price_impact_hedg_entropy_N()"
   ]
  },
  {
   "cell_type": "code",
   "execution_count": 73,
   "metadata": {},
   "outputs": [
    {
     "data": {
      "text/plain": [
       "(0.43052800000000024,\n",
       " 0.4238080000000011,\n",
       " 0.4238080000000003,\n",
       " -0.8332800000000049)"
      ]
     },
     "execution_count": 73,
     "metadata": {},
     "output_type": "execute_result"
    }
   ],
   "source": [
    "Market_cost_liq_entropy_N(), Market_cost_hedging_correct_entropy_N(), Market_cost_hedging_entropy_N(),LC_hedg_entropy_N()"
   ]
  },
  {
   "cell_type": "code",
   "execution_count": 74,
   "metadata": {},
   "outputs": [
    {
     "name": "stdout",
     "output_type": "stream",
     "text": [
      "1 -1.7600000000000002\n",
      "2 1.8400000000000003\n",
      "3 -4.16\n",
      "4 4.24\n",
      "5 -6.5600000000000005\n",
      "6 6.640000000000001\n",
      "7 -8.960000000000003\n",
      "8 9.040000000000003\n",
      "9 -11.360000000000001\n",
      "10 11.440000000000001\n",
      "11 -13.760000000000002\n",
      "12 13.84\n",
      "13 -16.160000000000004\n",
      "14 16.240000000000002\n",
      "15 16.800000000000004\n"
     ]
    }
   ],
   "source": [
    "for i in range(1,16):\n",
    "    print(i, Post_default_position_hedg_entropy_N(i))"
   ]
  },
  {
   "cell_type": "code",
   "execution_count": 75,
   "metadata": {},
   "outputs": [
    {
     "data": {
      "text/plain": [
       "(1.9744, 2.0224)"
      ]
     },
     "execution_count": 75,
     "metadata": {},
     "output_type": "execute_result"
    }
   ],
   "source": [
    "Pre_default_price_liq_entropy_N(), Post_default_price_hedg_entropy_N()"
   ]
  },
  {
   "cell_type": "code",
   "execution_count": 76,
   "metadata": {},
   "outputs": [
    {
     "data": {
      "text/plain": [
       "-0.6944000000000002"
      ]
     },
     "execution_count": 76,
     "metadata": {},
     "output_type": "execute_result"
    }
   ],
   "source": [
    "Pre_default_position_liq_entropy_N(15)*var_P"
   ]
  },
  {
   "cell_type": "code",
   "execution_count": 77,
   "metadata": {},
   "outputs": [
    {
     "data": {
      "text/plain": [
       "0.4238080000000003"
      ]
     },
     "execution_count": 77,
     "metadata": {},
     "output_type": "execute_result"
    }
   ],
   "source": [
    "Market_cost_liq_entropy_N() - Pre_default_position_liq_entropy_N(15)*Pre_default_price_liq_entropy_N(), \n",
    "Market_cost_hedging_entropy_N()"
   ]
  },
  {
   "cell_type": "markdown",
   "metadata": {},
   "source": [
    "# EXpected Shortfall--Liquidation case "
   ]
  },
  {
   "cell_type": "code",
   "execution_count": 78,
   "metadata": {},
   "outputs": [],
   "source": [
    "################################# Liquidation case ####### for normal distribution\n",
    "var_P = 0.04    # 0.04\n",
    "var_Rs = 0.09*D**2   #Variance of R_i, i=1,2,...,15 \n",
    "mean_P = 2.0\n",
    "varrhos = np.ones(15)   #varrho_i for i=1,...,15\n",
    "varrho_c = 1.0\n",
    "D = np.arange(len(varrhos)) + 1    #1,2,3,...,15\n",
    "covs = np.sqrt(var_P) * ((-1)**(D+1) * 0.8) * (0.3*D) #cov_i = covs[i], for i=1,...,15\n",
    "\n",
    "alpha = 0.975\n",
    "\n",
    "\n",
    "def Pre_default_position_liq_ES_N():\n",
    "    def fun(x):\n",
    "        a = var_P*x + covs\n",
    "        b = np.sqrt( var_Rs + 2*x*covs + (x**2)*var_P )\n",
    "        c = a/b \n",
    "        return [c[0]-c[1], c[0]-c[2], c[0]-c[3], c[0]-c[4],c[0]-c[5], c[0]-c[6], c[0]-c[7], c[0]-c[8], c[0]-c[9], \n",
    "                c[0]-c[10], c[0]-c[11], c[0]-c[12], c[0]-c[13], c[0]-c[14], x.sum()]\n",
    "    result = root(fun, np.zeros(15), tol=1e-30)\n",
    "    optpositions=result.x\n",
    "    return  optpositions\n",
    "\n",
    "def Pre_default_price_liq_ES_N(pre_default_position_liq_ES_N_array):\n",
    "    aa = norm.pdf(norm.ppf(alpha)) / (1-alpha)\n",
    "    bb = np.sqrt( var_Rs + 2*pre_default_position_liq_ES_N_array * covs + \n",
    "                 (pre_default_position_liq_ES_N_array ** 2 ) * var_P )\n",
    "    cc = var_P * (pre_default_position_liq_ES_N_array) + covs\n",
    "    return mean_P - (aa/(bb[0])) * (cc[0])\n",
    "    \n",
    "# After Default\n",
    "def Post_default_position_liq_ES_N():\n",
    "    def fun(x):\n",
    "        a = var_P * x + (covs[0:14])\n",
    "        b = np.sqrt( var_Rs[0:14] + 2*x*(covs[0:14]) + (x**2)*var_P )\n",
    "        c = a/b \n",
    "        return [c[0]-c[1], c[0]-c[2], c[0]-c[3], c[0]-c[4],c[0]-c[5], c[0]-c[6], c[0]-c[7], c[0]-c[8], c[0]-c[9], \n",
    "                c[0]-c[10], c[0]-c[11], c[0]-c[12], c[0]-c[13], x.sum()]\n",
    "    result = root(fun, np.zeros(14), tol=1e-30)\n",
    "    optpositions=result.x\n",
    "    return  optpositions\n",
    "\n",
    "def Post_default_price_liq_ES_N(post_default_position_liq_ES_N_array):\n",
    "    aa = norm.pdf(norm.ppf(alpha)) / (1-alpha)\n",
    "    bb = np.sqrt( var_Rs[0:14] + 2 * post_default_position_liq_ES_N_array * (covs[0:14]) + \n",
    "                 (post_default_position_liq_ES_N_array ** 2) * var_P )\n",
    "    cc = var_P * post_default_position_liq_ES_N_array + (covs[0:14])\n",
    "    return mean_P - (aa/(bb[0])) * (cc[0])\n",
    "\n",
    "def Market_Cost_liq_ES_N(pre_default_position_liq_ES_N_array,\n",
    "                         post_default_position_liq_ES_N_array,\n",
    "                         pre_default_price_liq_ES_N):\n",
    "    k = pre_default_position_liq_ES_N_array[0:14]\n",
    "    kk = post_default_position_liq_ES_N_array\n",
    "    q_d = pre_default_position_liq_ES_N_array[14]\n",
    "    P = pre_default_price_liq_ES_N\n",
    "    a = norm.pdf(norm.ppf(alpha)) / (1-alpha)\n",
    "    b = np.sqrt( var_Rs[0:14] + 2*k*(covs[0:14]) + (k**2)*var_P )\n",
    "    bb = np.sqrt( var_Rs[0:14] + 2*kk*(covs[0:14]) + (kk**2)*var_P )\n",
    "    term1 = q_d * (P - mean_P)\n",
    "    term2 = (a*(bb-b)).sum()\n",
    "    return term1 + term2\n",
    "\n",
    "#def LC_liq_ES_N():\n",
    " #   q_d = Pre_default_position_liq_ES_N()[14]\n",
    "  #  P_prime =Post_default_price_liq_ES_N()\n",
    "   # P = Pre_default_price_liq_ES_N()\n",
    "    #return q_d*(P_prime -P)"
   ]
  },
  {
   "cell_type": "markdown",
   "metadata": {},
   "source": [
    "# Risk Increment  Liquidation (Expectedshortfall, Normal)\n",
    "\n",
    "$RI_i = r_i(q'_i) - r_i(q_i) + q_i'^\\top p'-q_i^\\top p$\n",
    ", \n",
    "\n",
    "where  $r_i(x) = -x\\mu +\\mathbb{ES}_\\alpha \\sqrt{ var(R_i) +2x.cov_i+x^2\\sigma^2}$"
   ]
  },
  {
   "cell_type": "code",
   "execution_count": 79,
   "metadata": {},
   "outputs": [],
   "source": [
    "def Risk_increment_liq_ES_N(pre_default_position_liq_ES_N_array,\n",
    "                            post_default_position_liq_ES_N_array,\n",
    "                            pre_default_price_liq_ES_N,\n",
    "                            post_default_price_liq_ES_N):\n",
    "    k = pre_default_position_liq_ES_N_array[0:14]\n",
    "    kk = post_default_position_liq_ES_N_array\n",
    "    q_d = pre_default_position_liq_ES_N_array[14]\n",
    "    p = pre_default_price_liq_ES_N\n",
    "    P_prime = post_default_price_liq_ES_N\n",
    "    a = norm.pdf(norm.ppf(alpha)) / (1-alpha)\n",
    "    b = np.sqrt( var_Rs[0:14] + 2*k*(covs[0:14]) + (k**2)*var_P )\n",
    "    bb = np.sqrt( var_Rs[0:14] + 2*kk*(covs[0:14]) + (kk**2)*var_P )\n",
    "    Delta_q = kk-k\n",
    "    ter1 = (kk*P_prime) - (k*p)\n",
    "    ter2 = (-(mean_P*Delta_q)) + (a*(bb-b))\n",
    "    return ter1 + ter2 \n",
    "  \n",
    "def Price_impact_liq_ES_N(post_default_position_liq_ES_N_array, p, p_prime):\n",
    "    return (p - p_prime) * post_default_position_liq_ES_N_array"
   ]
  },
  {
   "cell_type": "code",
   "execution_count": 80,
   "metadata": {},
   "outputs": [],
   "source": [
    "pre_default_position_liq_ES_N_array = Pre_default_position_liq_ES_N()\n",
    "pre_default_price_liq_ES_N = Pre_default_price_liq_ES_N(pre_default_position_liq_ES_N_array)\n",
    "post_default_position_liq_ES_N_array = Post_default_position_liq_ES_N()\n",
    "post_default_price_liq_ES_N = Post_default_price_liq_ES_N(post_default_position_liq_ES_N_array)"
   ]
  },
  {
   "cell_type": "code",
   "execution_count": 81,
   "metadata": {
    "scrolled": true
   },
   "outputs": [
    {
     "data": {
      "text/plain": [
       "(0.6954815916598411,\n",
       " array([ 0.10597815, -0.18546176,  0.31793444, -0.37092352,  0.52989074,\n",
       "        -0.55638527,  0.74184703, -0.74184703,  0.95380333, -0.92730879,\n",
       "         1.16575962, -1.11277055,  1.37771591, -1.2982323 ]),\n",
       " 0.6954815916598429)"
      ]
     },
     "execution_count": 81,
     "metadata": {},
     "output_type": "execute_result"
    }
   ],
   "source": [
    "(Risk_increment_liq_ES_N(pre_default_position_liq_ES_N_array,\n",
    "                        post_default_position_liq_ES_N_array,\n",
    "                        pre_default_price_liq_ES_N,\n",
    "                        post_default_price_liq_ES_N).sum(),\n",
    "Price_impact_liq_ES_N(post_default_position_liq_ES_N_array, pre_default_price_liq_ES_N, post_default_price_liq_ES_N),\n",
    "Market_Cost_liq_ES_N(pre_default_position_liq_ES_N_array,\n",
    "                     post_default_position_liq_ES_N_array,\n",
    "                     pre_default_price_liq_ES_N))"
   ]
  },
  {
   "cell_type": "code",
   "execution_count": 82,
   "metadata": {},
   "outputs": [
    {
     "data": {
      "text/plain": [
       "(array([ -1.12,   2.56,  -3.36,   5.12,  -5.6 ,   7.68,  -7.84,  10.24,\n",
       "        -10.08,  12.8 , -12.32,  15.36, -14.56,  17.92, -16.8 ]),\n",
       " array([ -1.28,   2.24,  -3.84,   4.48,  -6.4 ,   6.72,  -8.96,   8.96,\n",
       "        -11.52,  11.2 , -14.08,  13.44, -16.64,  15.68]))"
      ]
     },
     "execution_count": 82,
     "metadata": {},
     "output_type": "execute_result"
    }
   ],
   "source": [
    "Pre_default_position_liq_ES_N(), Post_default_position_liq_ES_N()"
   ]
  },
  {
   "cell_type": "code",
   "execution_count": 83,
   "metadata": {},
   "outputs": [
    {
     "data": {
      "text/plain": [
       "0.6954815916598429"
      ]
     },
     "execution_count": 83,
     "metadata": {},
     "output_type": "execute_result"
    }
   ],
   "source": [
    "Market_Cost_liq_ES_N(pre_default_position_liq_ES_N_array,\n",
    "                     post_default_position_liq_ES_N_array,\n",
    "                     pre_default_price_liq_ES_N)"
   ]
  },
  {
   "cell_type": "code",
   "execution_count": 84,
   "metadata": {},
   "outputs": [
    {
     "data": {
      "text/plain": [
       "(1.9586022862107235, 2.0413977137892765)"
      ]
     },
     "execution_count": 84,
     "metadata": {},
     "output_type": "execute_result"
    }
   ],
   "source": [
    "(pre_default_price_liq_ES_N, post_default_price_liq_ES_N)"
   ]
  },
  {
   "cell_type": "code",
   "execution_count": 85,
   "metadata": {},
   "outputs": [],
   "source": [
    "##############Student t\n",
    "var_P = 0.04    # 0.04\n",
    "var_Rs = 0.09*D**2   #Variance of R_i, i=1,2,...,15 \n",
    "mean_P = 2.0\n",
    "varrhos = np.ones(15)   #varrho_i for i=1,...,15\n",
    "varrho_c = 1.0\n",
    "D = np.arange(len(varrhos)) + 1    #1,2,3,...,15\n",
    "covs = np.sqrt(var_P) * ((-1)**(D+1) * 0.8) * (0.3*D) #cov_i = covs[i], for i=1,...,15\n",
    "alpha = 0.975\n",
    "nu = 2.5\n",
    "\n",
    "def Pre_default_price_liq_ES_t(pre_default_position_liq_ES_N_array):\n",
    "    a = np.sqrt((nu-2)/(nu-1))\n",
    "    aa = (t.pdf(t.ppf(alpha, nu), nu) * (nu + t.ppf(alpha, nu)**2)) / ((1-alpha)*(nu-1))\n",
    "    bb = np.sqrt( var_Rs + 2 * pre_default_position_liq_ES_N_array*covs + (pre_default_position_liq_ES_N_array**2)*var_P )\n",
    "    cc = var_P*pre_default_position_liq_ES_N_array + covs\n",
    "    return mean_P - ((a*aa)/(bb[0])) * (cc[0])\n",
    "\n",
    "def Post_default_price_liq_ES_t(post_default_position_liq_ES_N_array):\n",
    "    a = np.sqrt((nu-2)/(nu-1))\n",
    "    aa = (t.pdf(t.ppf(alpha, nu), nu) * (nu + t.ppf(alpha, nu)**2)) / ((1-alpha)*(nu-1))\n",
    "    bb = np.sqrt( var_Rs[0:14] + 2*post_default_position_liq_ES_N_array*(covs[0:14]) + \n",
    "                 (post_default_position_liq_ES_N_array**2)*var_P )\n",
    "    cc = var_P*post_default_position_liq_ES_N_array + (covs[0:14])\n",
    "    return mean_P - ((a*aa)/(bb[0])) * (cc[0])\n",
    "\n",
    "def Market_Cost_liq_ES_t(pre_default_position_liq_ES_N_array,\n",
    "                         post_default_position_liq_ES_N_array,\n",
    "                         pre_default_price_liq_ES_t):\n",
    "    k = pre_default_position_liq_ES_N_array[0:14]\n",
    "    kk = post_default_position_liq_ES_N_array\n",
    "    term0 = pre_default_position_liq_ES_N_array[14]*pre_default_price_liq_ES_t #q_d.p'\n",
    "    a = np.sqrt((nu-2)/(nu-1))\n",
    "    aa = (t.pdf(t.ppf(alpha, nu), nu) * (nu + t.ppf(alpha, nu)**2)) / ((1-alpha)*(nu-1))\n",
    "    b = np.sqrt( var_Rs[0:14] + 2*k*((covs[0:14])) + (k**2)*var_P )\n",
    "    bb = np.sqrt( var_Rs[0:14] + 2*kk*((covs[0:14])) + (kk**2)*var_P )\n",
    "    term1 = -mean_P*(kk-k)\n",
    "    term2 = (a*aa)*(bb-b)\n",
    "    return term0 + (term1.sum()) + (term2.sum())\n",
    "#def LC_liq_ES_t():\n",
    " #   q_d = Pre_default_position_liq_ES_N()[14]\n",
    " #   P_prime =Post_default_price_liq_ES_t()\n",
    " #   P = Pre_default_price_liq_ES_t()\n",
    "  #  return q_d*(P_prime -P)\n"
   ]
  },
  {
   "cell_type": "code",
   "execution_count": 86,
   "metadata": {},
   "outputs": [
    {
     "data": {
      "text/plain": [
       "(1.9365549991316375, 2.0634450008683625, 1.0658760145884865)"
      ]
     },
     "execution_count": 86,
     "metadata": {},
     "output_type": "execute_result"
    }
   ],
   "source": [
    "pre_default_price_liq_ES_t = Pre_default_price_liq_ES_t(pre_default_position_liq_ES_N_array)\n",
    "post_default_price_liq_ES_t = Post_default_price_liq_ES_t(post_default_position_liq_ES_N_array)\n",
    "market_Cost_liq_ES_t = Market_Cost_liq_ES_t(pre_default_position_liq_ES_N_array,\n",
    "                                            post_default_position_liq_ES_N_array,\n",
    "                                            pre_default_price_liq_ES_t)\n",
    "(pre_default_price_liq_ES_t, post_default_price_liq_ES_t, market_Cost_liq_ES_t)"
   ]
  },
  {
   "cell_type": "markdown",
   "metadata": {},
   "source": [
    " # Expected shortfall Headging case\n",
    "Let $E=\\{1,\\dots,15\\}$, $d=\\{15\\}$, $N=\\{\\mathrm{c}\\}$, $\\varrho_i=1=\\varrho_\\mathrm{c}$, and  $(R_i, P) \\sim \\mathcal{N}_2(\\mu_i, \\Sigma_i)$ with $\\mathrm{cov}_i =\\sigma \\rho_i  \\sigma_{R_i}$, where $\\sigma= 0.2$, $\\rho_i=(-1)^{i+1} 0.8$ is the correlation coefficient between $R_i$ and $P$, and $\\sigma_{R_i}=0.3i$, $i \\in E$.\n",
    "When the CCP hedges on $\\mathcal{E}$, the corresponding pre- and post-default optimal positions are given by :"
   ]
  },
  {
   "cell_type": "code",
   "execution_count": 87,
   "metadata": {},
   "outputs": [],
   "source": [
    "# Before default\n",
    "var_P = 0.04    # 0.04\n",
    "var_Rs = 0.09*D**2   #Variance of R_i, i=1,2,...,15 \n",
    "mean_P = 2.0\n",
    "varrhos = np.ones(15)   #varrho_i for i=1,...,15\n",
    "varrho_c = 1.0\n",
    "D = np.arange(len(varrhos)) + 1    #1,2,3,...,15\n",
    "covs = np.sqrt(var_P) * ((-1)**(D+1) * 0.8) * (0.3*D) #cov_i = covs[i], for i=1,...,15\n",
    "alpha = 0.975\n",
    "\n",
    "def Pre_default_position_hedg_ES_N():\n",
    "    \"\"\"\n",
    "    Compute the predefault optimal positions for member i = 1,...,15. It works both for liquidation\n",
    "    and headging cases.\n",
    "    \"\"\"\n",
    "    def fun(x):\n",
    "        a = var_P * x + covs\n",
    "        b = np.sqrt( var_Rs + 2*x*covs + (x**2)*var_P )\n",
    "        c = a/b \n",
    "        return [c[0]-c[1], c[0]-c[2], c[0]-c[3], c[0]-c[4],c[0]-c[5], c[0]-c[6], c[0]-c[7], c[0]-c[8], c[0]-c[9], \n",
    "                c[0]-c[10], c[0]-c[11], c[0]-c[12], c[0]-c[13], c[0]-c[14], x.sum()]\n",
    "    result = root(fun, np.zeros(15), tol=1e-30)\n",
    "    optpositions=result.x\n",
    "    return  optpositions\n",
    "\n",
    "def Pre_default_price_hedg_ES_N(pre_default_position_hedg_ES_N_array):\n",
    "    \"\"\"usefull for liquidation and hedging cases\"\"\"\n",
    "    a = norm.pdf(norm.ppf(alpha)) / (1-alpha)\n",
    "    b = (covs[0] + var_P*pre_default_position_hedg_ES_N_array[0]) \n",
    "    c = np.sqrt( var_Rs[0] + 2*pre_default_position_hedg_ES_N_array[0]*covs[0] + \n",
    "                (pre_default_position_hedg_ES_N_array[0]**2)*var_P )\n",
    "    return  mean_P - (a*b )/c\n",
    "\n",
    "    \n",
    "def convex_conjugate(f, domain, y, pre_default_position_hedg_ES_N_array, pre_default_price_hedg_ES_N):\n",
    "    \"\"\"\n",
    "    Compute the convex conjugate of a function f on a given domain\n",
    "    at a point y.\n",
    "    \n",
    "    Parameters:\n",
    "    f (function): the function to compute the convex conjugate of\n",
    "    domain (tuple): a tuple of two values representing the lower and\n",
    "                    upper bounds of the domain\n",
    "    y (float): the value at which to compute the convex conjugate\n",
    "    \n",
    "    Returns:\n",
    "    float: the value of the convex conjugate of f at y\n",
    "    \"\"\"\n",
    "    def g(x, pre_default_position_hedg_ES_N_array, pre_default_price_hedg_ES_N):\n",
    "        return x * y - f(x, pre_default_position_hedg_ES_N_array, pre_default_price_hedg_ES_N)\n",
    "    # Find the supremum of g on the domain using Nelder-Mead algorithm\n",
    "    res = minimize(lambda x: -g(x, pre_default_position_hedg_ES_N_array, pre_default_price_hedg_ES_N), \n",
    "                   x0=[0], bounds=[domain], method='Nelder-Mead')\n",
    "    return -res.fun\n",
    "\n",
    "\n",
    "# Define the function r_c\n",
    "def r_c(x, pre_default_position_hedg_ES_N_array, pre_default_price_hedg_ES_N):\n",
    "    q_d = pre_default_position_hedg_ES_N_array[14]\n",
    "    var_c = (q_d**2)*var_P\n",
    "    p = pre_default_price_hedg_ES_N\n",
    "    a =  q_d*(p - mean_P ) - x*mean_P \n",
    "    b = norm.pdf(norm.ppf(alpha)) / (1-alpha)\n",
    "    cc = np.sqrt( var_c + (2*x*var_P *q_d) + (var_P*(x**2)))\n",
    "    return  a + b*cc \n",
    "\n",
    "\n",
    "def Post_default_position_hedg_ES_N(pre_default_position_hedg_ES_N_array, pre_default_price_hedg_ES_N):\n",
    "    def fun(x):\n",
    "        a = var_P*x[:14] + covs[:14]\n",
    "        b = np.sqrt( (var_Rs[:14]) + 2*(x[:14])*(covs[:14]) + ((x[:14])**2)*var_P )\n",
    "        c = a/b \n",
    "        \"\"\" now lets define the post default price pprime\"\"\"\n",
    "        aa = norm.pdf(norm.ppf(alpha)) / (1-alpha)\n",
    "        pprime = mean_P -aa*(c[0])\n",
    "        q_d = pre_default_position_hedg_ES_N_array[14]\n",
    "        return [c[0]-c[1], c[0]-c[2], c[0]-c[3], c[0]-c[4],c[0]-c[5], c[0]-c[6], c[0]-c[7], c[0]-c[8], c[0]-c[9], \n",
    "                c[0]-c[10], c[0]-c[11], c[0]-c[12], c[0]-c[13], \n",
    "                r_c(x[14], pre_default_position_hedg_ES_N_array, pre_default_price_hedg_ES_N) + \n",
    "                (x[14])*pprime + convex_conjugate(r_c, (-np.infty, np.infty), y=-pprime,\n",
    "                                                  pre_default_position_hedg_ES_N_array=pre_default_position_hedg_ES_N_array,\n",
    "                                                  pre_default_price_hedg_ES_N=pre_default_price_hedg_ES_N), \n",
    "                x.sum() + q_d]\n",
    "    result = root(fun, np.zeros(15), tol=1e-30)\n",
    "    optpositions=result.x\n",
    "    return  optpositions\n",
    "\n",
    "def Post_default_price_hedg_ES_N(post_default_position_hedg_ES_N_array):\n",
    "    a = var_P * (post_default_position_hedg_ES_N_array[0]) + covs[0]\n",
    "    b = np.sqrt( var_Rs[0] + 2* (post_default_position_hedg_ES_N_array[0])* (covs[0]) + \n",
    "                ((post_default_position_hedg_ES_N_array[0])**2)*var_P )\n",
    "    aa = norm.pdf(norm.ppf(alpha)) / (1-alpha)\n",
    "    return   mean_P -aa*(a/b)\n",
    "\n",
    "def Market_Cost_hedg_ES_N(pre_default_position_hedg_ES_N_array, post_default_position_hedg_ES_N_array):\n",
    "    q_d = pre_default_position_hedg_ES_N_array[14]\n",
    "    Pre = pre_default_position_hedg_ES_N_array[0:14] #pre-default survival\n",
    "    Post = post_default_position_hedg_ES_N_array[0:14] #Post-default survival\n",
    "    q_prime_c = post_default_position_hedg_ES_N_array[14] #post default position of ccp\n",
    "    var_Rss = var_Rs[0:14]       #variance of R_i for survival\n",
    "    covss = covs[0:14]       #cov_i for survival\n",
    "    a = norm.pdf(norm.ppf(alpha)) / (1-alpha)\n",
    "    b = np.sqrt( var_Rss + (2*Pre*covss) + (Pre**2)*var_P )\n",
    "    bb = np.sqrt( var_Rss + (2*Post*covss) + (Post**2)*var_P )\n",
    "    Deltaq = Post-Pre\n",
    "    ter1 = -mean_P*Deltaq \n",
    "    ter2 = a*(bb-b)\n",
    "    return (ter1.sum())  + (ter2.sum()) + r_c(q_prime_c, pre_default_position_hedg_ES_N_array, pre_default_price_hedg_ES_N)\n",
    "\n",
    "def LC_hedg_ES_N(pre_default_position_hedg_ES_N_array, pre_default_price_hedg_ES_N, post_default_price_hedg_ES_N):\n",
    "    q_d = pre_default_position_hedg_ES_N_array[14]\n",
    "    P_prime = post_default_price_hedg_ES_N\n",
    "    P = pre_default_price_hedg_ES_N\n",
    "    return q_d*(P_prime -P)\n"
   ]
  },
  {
   "cell_type": "markdown",
   "metadata": {},
   "source": [
    "# Risk Increment  Hedging (Expectedshortfall, Normal)\n",
    "\n",
    "$RI_i = r_i(q'_i) - r_i(q_i) + q_i'^\\top p'-q_i^\\top p$, \n",
    "\n",
    "$RI_c = r_i(q'_c) +q'_cp'$\n",
    "\n",
    "where  $r_i(x) = -x\\mu +\\mathbb{ES}_\\alpha \\sqrt{ var(R_i) +2x.cov_i+x^2\\sigma^2}$ for surviviving and \n",
    "            \n",
    "    \n",
    "$r_c(q'_c )$ is already coded "
   ]
  },
  {
   "cell_type": "code",
   "execution_count": 88,
   "metadata": {},
   "outputs": [],
   "source": [
    "def Risk_increment_hedg_ES_N(pre_default_position_hedg_ES_N_array,\n",
    "                             post_default_position_hedg_ES_N_array,\n",
    "                             pre_default_price_hedg_ES_N,\n",
    "                             post_default_price_hedg_ES_N):\n",
    "    q_d = pre_default_position_hedg_ES_N_array[14]\n",
    "    Pre = pre_default_position_hedg_ES_N_array[0:14] #pre-default survival\n",
    "    Post = post_default_position_hedg_ES_N_array[0:14] #Post-default survival\n",
    "    q_prime_c = post_default_position_hedg_ES_N_array[14] #post default position of ccp\n",
    "    var_Rss = var_Rs[0:14]       #variance of R_i for survival\n",
    "    covss = covs[0:14]       #cov_i for survival\n",
    "    a = norm.pdf(norm.ppf(alpha)) / (1-alpha)\n",
    "    b = np.sqrt( var_Rss + (2*Pre*covss) + (Pre**2)*var_P )\n",
    "    bb = np.sqrt( var_Rss + (2*Post*covss) + (Post**2)*var_P )\n",
    "    Delta_q = Post-Pre\n",
    "    P = pre_default_price_hedg_ES_N\n",
    "    P_prime = post_default_price_hedg_ES_N\n",
    "    ter1 =(Post*P_prime) - (Pre*P)\n",
    "    ter2 =  (-(mean_P*Delta_q)) + (a*(bb-b))\n",
    "    ter3 = r_c(q_prime_c, pre_default_position_hedg_ES_N_array, pre_default_price_hedg_ES_N) + (q_prime_c*P_prime)\n",
    "    return np.append((ter1 + ter2), ter3)\n",
    "\n",
    "def Price_impact_hedg_ES_N(pre_default_position_hedg_ES_N_array,\n",
    "                           pre_default_price_hedg_ES_N,\n",
    "                           post_default_price_hedg_ES_N):\n",
    "    Pre =pre_default_position_hedg_ES_N_array[0:14]\n",
    "    p = pre_default_price_hedg_ES_N\n",
    "    P_prime = post_default_price_hedg_ES_N\n",
    "    return (p-P_prime)*Pre"
   ]
  },
  {
   "cell_type": "code",
   "execution_count": 89,
   "metadata": {},
   "outputs": [],
   "source": [
    "pre_default_position_hedg_ES_N_array = Pre_default_position_hedg_ES_N()\n",
    "pre_default_price_hedg_ES_N = Pre_default_price_hedg_ES_N(pre_default_position_hedg_ES_N_array)\n",
    "post_default_position_hedg_ES_N_array = Post_default_position_hedg_ES_N(pre_default_position_hedg_ES_N_array,\n",
    "                                                                        pre_default_price_hedg_ES_N)\n",
    "post_default_price_hedg_ES_N = Post_default_price_hedg_ES_N(post_default_position_hedg_ES_N_array)"
   ]
  },
  {
   "cell_type": "code",
   "execution_count": 90,
   "metadata": {},
   "outputs": [
    {
     "data": {
      "text/plain": [
       "0.6954817133685665"
      ]
     },
     "execution_count": 90,
     "metadata": {},
     "output_type": "execute_result"
    }
   ],
   "source": [
    "Risk_increment_hedg_ES_N(pre_default_position_hedg_ES_N_array,\n",
    "                         post_default_position_hedg_ES_N_array,\n",
    "                         pre_default_price_hedg_ES_N,\n",
    "                         post_default_price_hedg_ES_N).sum() \\\n",
    "+ Price_impact_hedg_ES_N(pre_default_position_hedg_ES_N_array,\n",
    "                       pre_default_price_hedg_ES_N,\n",
    "                       post_default_price_hedg_ES_N).sum()"
   ]
  },
  {
   "cell_type": "code",
   "execution_count": 91,
   "metadata": {},
   "outputs": [
    {
     "data": {
      "text/plain": [
       "0.6954817133685651"
      ]
     },
     "execution_count": 91,
     "metadata": {},
     "output_type": "execute_result"
    }
   ],
   "source": [
    "Market_Cost_hedg_ES_N(pre_default_position_hedg_ES_N_array, post_default_position_hedg_ES_N_array)"
   ]
  },
  {
   "cell_type": "code",
   "execution_count": 92,
   "metadata": {},
   "outputs": [
    {
     "data": {
      "text/plain": [
       "0.6954815916598429"
      ]
     },
     "execution_count": 92,
     "metadata": {},
     "output_type": "execute_result"
    }
   ],
   "source": [
    "Market_Cost_liq_ES_N(pre_default_position_liq_ES_N_array, post_default_position_liq_ES_N_array, pre_default_price_liq_ES_N)"
   ]
  },
  {
   "cell_type": "code",
   "execution_count": 93,
   "metadata": {},
   "outputs": [
    {
     "data": {
      "text/plain": [
       "(array([-0.09935451,  0.19870903, -0.29806354,  0.39741805, -0.49677257,\n",
       "         0.59612708, -0.69548159,  0.7948361 , -0.89419062,  0.99354513,\n",
       "        -1.09289964,  1.19225416, -1.29160867,  1.39096318]),\n",
       " array([ 0.10597815, -0.18546176,  0.31793444, -0.37092352,  0.52989074,\n",
       "        -0.55638527,  0.74184703, -0.74184703,  0.95380333, -0.92730879,\n",
       "         1.16575962, -1.11277055,  1.37771591, -1.2982323 ]))"
      ]
     },
     "execution_count": 93,
     "metadata": {},
     "output_type": "execute_result"
    }
   ],
   "source": [
    "(Risk_increment_liq_ES_N(pre_default_position_liq_ES_N_array,\n",
    "                        post_default_position_liq_ES_N_array,\n",
    "                        pre_default_price_liq_ES_N,\n",
    "                        post_default_price_liq_ES_N),\n",
    "Price_impact_liq_ES_N(post_default_position_liq_ES_N_array, pre_default_price_liq_ES_N, post_default_price_liq_ES_N))"
   ]
  },
  {
   "cell_type": "code",
   "execution_count": 94,
   "metadata": {},
   "outputs": [
    {
     "data": {
      "text/plain": [
       "(2.0864448616944014, -1.390963148325835)"
      ]
     },
     "execution_count": 94,
     "metadata": {},
     "output_type": "execute_result"
    }
   ],
   "source": [
    "(Risk_increment_hedg_ES_N(pre_default_position_hedg_ES_N_array,\n",
    "                         post_default_position_hedg_ES_N_array,\n",
    "                         pre_default_price_hedg_ES_N,\n",
    "                         post_default_price_hedg_ES_N).sum(),\n",
    "Price_impact_hedg_ES_N(pre_default_position_hedg_ES_N_array,\n",
    "                       pre_default_price_hedg_ES_N,\n",
    "                       post_default_price_hedg_ES_N).sum())"
   ]
  },
  {
   "cell_type": "code",
   "execution_count": 95,
   "metadata": {},
   "outputs": [
    {
     "data": {
      "text/plain": [
       "(0.6954817133685651, -1.390963148325835)"
      ]
     },
     "execution_count": 95,
     "metadata": {},
     "output_type": "execute_result"
    }
   ],
   "source": [
    "(Market_Cost_hedg_ES_N(pre_default_position_hedg_ES_N_array, post_default_position_hedg_ES_N_array),\n",
    "LC_hedg_ES_N(pre_default_position_hedg_ES_N_array, pre_default_price_hedg_ES_N, post_default_price_hedg_ES_N))"
   ]
  },
  {
   "cell_type": "code",
   "execution_count": 96,
   "metadata": {},
   "outputs": [
    {
     "data": {
      "text/plain": [
       "(1.9586022862107235, 2.041397711706309)"
      ]
     },
     "execution_count": 96,
     "metadata": {},
     "output_type": "execute_result"
    }
   ],
   "source": [
    "(pre_default_price_hedg_ES_N, post_default_price_hedg_ES_N)"
   ]
  },
  {
   "cell_type": "code",
   "execution_count": 97,
   "metadata": {},
   "outputs": [
    {
     "data": {
      "text/plain": [
       "(1.9586022862107235, 2.0413977137892765)"
      ]
     },
     "execution_count": 97,
     "metadata": {},
     "output_type": "execute_result"
    }
   ],
   "source": [
    "(pre_default_price_liq_ES_N, post_default_price_liq_ES_N)"
   ]
  },
  {
   "cell_type": "markdown",
   "metadata": {},
   "source": [
    "# Positive definiteness can be checked using:\n",
    "    $$var_Rs > (covs**2 /var_P)$$"
   ]
  },
  {
   "cell_type": "code",
   "execution_count": 98,
   "metadata": {},
   "outputs": [
    {
     "data": {
      "text/plain": [
       "array([ True,  True,  True,  True,  True,  True,  True,  True,  True,\n",
       "        True,  True,  True,  True,  True,  True])"
      ]
     },
     "execution_count": 98,
     "metadata": {},
     "output_type": "execute_result"
    }
   ],
   "source": [
    "var_Rs > (covs**2 /var_P)"
   ]
  },
  {
   "cell_type": "code",
   "execution_count": null,
   "metadata": {},
   "outputs": [],
   "source": []
  }
 ],
 "metadata": {
  "kernelspec": {
   "display_name": "Python 3",
   "language": "python",
   "name": "python3"
  },
  "language_info": {
   "codemirror_mode": {
    "name": "ipython",
    "version": 3
   },
   "file_extension": ".py",
   "mimetype": "text/x-python",
   "name": "python",
   "nbconvert_exporter": "python",
   "pygments_lexer": "ipython3",
   "version": "3.6.8"
  }
 },
 "nbformat": 4,
 "nbformat_minor": 4
}
